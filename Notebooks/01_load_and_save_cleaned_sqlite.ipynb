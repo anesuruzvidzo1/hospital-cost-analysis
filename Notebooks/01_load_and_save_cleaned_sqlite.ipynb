{
 "cells": [
  {
   "cell_type": "markdown",
   "id": "cbf4688e",
   "metadata": {},
   "source": [
    "## Load Full Hospital Cost Reports from SQLite\n",
    "\n",
    "We connect to the `hospital_costs.db` SQLite database and read the entire `costs_all` table—which contains the raw cost report entries for all hospitals—into a Pandas DataFrame. Displaying the DataFrame’s dimensions and a preview confirms successful import and shows the table’s structure."
   ]
  },
  {
   "cell_type": "code",
   "execution_count": 1,
   "id": "7f60b98a",
   "metadata": {},
   "outputs": [
    {
     "name": "stdout",
     "output_type": "stream",
     "text": [
      "Rows × Cols: (29175, 10)\n"
     ]
    },
    {
     "data": {
      "text/html": [
       "<div>\n",
       "<style scoped>\n",
       "    .dataframe tbody tr th:only-of-type {\n",
       "        vertical-align: middle;\n",
       "    }\n",
       "\n",
       "    .dataframe tbody tr th {\n",
       "        vertical-align: top;\n",
       "    }\n",
       "\n",
       "    .dataframe thead th {\n",
       "        text-align: right;\n",
       "    }\n",
       "</style>\n",
       "<table border=\"1\" class=\"dataframe\">\n",
       "  <thead>\n",
       "    <tr style=\"text-align: right;\">\n",
       "      <th></th>\n",
       "      <th>CCN</th>\n",
       "      <th>Hospital_Name</th>\n",
       "      <th>Total_Charges</th>\n",
       "      <th>Total_Payment</th>\n",
       "      <th>Address</th>\n",
       "      <th>City</th>\n",
       "      <th>State</th>\n",
       "      <th>County</th>\n",
       "      <th>Ownership</th>\n",
       "      <th>Report_Fiscal_Year</th>\n",
       "    </tr>\n",
       "  </thead>\n",
       "  <tbody>\n",
       "    <tr>\n",
       "      <th>0</th>\n",
       "      <td>341318</td>\n",
       "      <td>CHOWAN HOSPITAL INC.</td>\n",
       "      <td>36330775</td>\n",
       "      <td>56681179</td>\n",
       "      <td>211 VIRGINIA AVENUE</td>\n",
       "      <td>EDENTON</td>\n",
       "      <td>NC</td>\n",
       "      <td>CHOWAN</td>\n",
       "      <td>2</td>\n",
       "      <td>2018</td>\n",
       "    </tr>\n",
       "    <tr>\n",
       "      <th>1</th>\n",
       "      <td>102012</td>\n",
       "      <td>SPECIALTY HOSPITAL OF JACKSONVILLE</td>\n",
       "      <td>21692290</td>\n",
       "      <td>4729380</td>\n",
       "      <td>4901 RICHARD STREET</td>\n",
       "      <td>JACKSONVILLE</td>\n",
       "      <td>FL</td>\n",
       "      <td>DUVAL</td>\n",
       "      <td>4</td>\n",
       "      <td>2018</td>\n",
       "    </tr>\n",
       "    <tr>\n",
       "      <th>2</th>\n",
       "      <td>221300</td>\n",
       "      <td>MARTHAS VINEYARD HOSPITAL</td>\n",
       "      <td>24038629</td>\n",
       "      <td>84069106</td>\n",
       "      <td>ONE HOSPITAL ROAD</td>\n",
       "      <td>OAK BLUFFS</td>\n",
       "      <td>MA</td>\n",
       "      <td>DUKES</td>\n",
       "      <td>2</td>\n",
       "      <td>2018</td>\n",
       "    </tr>\n",
       "    <tr>\n",
       "      <th>3</th>\n",
       "      <td>201302</td>\n",
       "      <td>LINCOLNHEALTH</td>\n",
       "      <td>37577199</td>\n",
       "      <td>85209941</td>\n",
       "      <td>6 ST. ANDREWS LANE</td>\n",
       "      <td>BOOTHBAY HARBOR</td>\n",
       "      <td>ME</td>\n",
       "      <td>LINCOLN</td>\n",
       "      <td>2</td>\n",
       "      <td>2018</td>\n",
       "    </tr>\n",
       "    <tr>\n",
       "      <th>4</th>\n",
       "      <td>511306</td>\n",
       "      <td>ROANE GENERAL HOSPITAL</td>\n",
       "      <td>10970176</td>\n",
       "      <td>35195713</td>\n",
       "      <td>200 HOSPITAL DRIVE</td>\n",
       "      <td>SPENCER</td>\n",
       "      <td>WV</td>\n",
       "      <td>ROANE</td>\n",
       "      <td>2</td>\n",
       "      <td>2018</td>\n",
       "    </tr>\n",
       "  </tbody>\n",
       "</table>\n",
       "</div>"
      ],
      "text/plain": [
       "      CCN                       Hospital_Name Total_Charges Total_Payment  \\\n",
       "0  341318                CHOWAN HOSPITAL INC.      36330775      56681179   \n",
       "1  102012  SPECIALTY HOSPITAL OF JACKSONVILLE      21692290       4729380   \n",
       "2  221300           MARTHAS VINEYARD HOSPITAL      24038629      84069106   \n",
       "3  201302                       LINCOLNHEALTH      37577199      85209941   \n",
       "4  511306              ROANE GENERAL HOSPITAL      10970176      35195713   \n",
       "\n",
       "               Address             City State   County Ownership  \\\n",
       "0  211 VIRGINIA AVENUE          EDENTON    NC   CHOWAN         2   \n",
       "1  4901 RICHARD STREET     JACKSONVILLE    FL    DUVAL         4   \n",
       "2    ONE HOSPITAL ROAD       OAK BLUFFS    MA    DUKES         2   \n",
       "3   6 ST. ANDREWS LANE  BOOTHBAY HARBOR    ME  LINCOLN         2   \n",
       "4   200 HOSPITAL DRIVE          SPENCER    WV    ROANE         2   \n",
       "\n",
       "   Report_Fiscal_Year  \n",
       "0                2018  \n",
       "1                2018  \n",
       "2                2018  \n",
       "3                2018  \n",
       "4                2018  "
      ]
     },
     "execution_count": 1,
     "metadata": {},
     "output_type": "execute_result"
    }
   ],
   "source": [
    "import sqlite3\n",
    "import pandas as pd\n",
    "\n",
    "# Adjust path if your notebook is in Notebooks/ (one level down from the project root)\n",
    "db_path = \"../hospital_costs.db\"\n",
    "conn = sqlite3.connect(db_path)\n",
    "\n",
    "# Load the entire costs_all table into a DataFrame\n",
    "cost_reports = pd.read_sql_query(\"SELECT * FROM costs_all;\", conn)\n",
    "\n",
    "# Show shape and a quick preview\n",
    "print(\"Rows × Cols:\", cost_reports.shape)\n",
    "cost_reports.head()"
   ]
  },
  {
   "cell_type": "code",
   "execution_count": 2,
   "id": "bfb29a69",
   "metadata": {},
   "outputs": [
    {
     "data": {
      "text/plain": [
       "CCN                   object\n",
       "Hospital_Name         object\n",
       "Total_Charges         object\n",
       "Total_Payment         object\n",
       "Address               object\n",
       "City                  object\n",
       "State                 object\n",
       "County                object\n",
       "Ownership             object\n",
       "Report_Fiscal_Year     int64\n",
       "dtype: object"
      ]
     },
     "execution_count": 2,
     "metadata": {},
     "output_type": "execute_result"
    }
   ],
   "source": [
    "# Check the current data types of each column\n",
    "cost_reports.dtypes"
   ]
  },
  {
   "cell_type": "markdown",
   "id": "91a4d67a",
   "metadata": {},
   "source": [
    "## Data Type Standardization: Numeric Conversion of Key Fields\n",
    "\n",
    "After loading the raw `costs_all` table from SQLite, we ensure that critical fields (`CCN`, `Total_Charges`, and `Total_Payment`) are stored as numeric types. We coerce any non-numeric entries to NaN and then drop those incomplete rows. Finally, we confirm the data types to ensure reliable downstream calculations of charge-to-payment ratios."
   ]
  },
  {
   "cell_type": "code",
   "execution_count": 3,
   "id": "5efeee8c",
   "metadata": {},
   "outputs": [
    {
     "data": {
      "text/plain": [
       "CCN                    int64\n",
       "Hospital_Name         object\n",
       "Total_Charges          int64\n",
       "Total_Payment          int64\n",
       "Address               object\n",
       "City                  object\n",
       "State                 object\n",
       "County                object\n",
       "Ownership             object\n",
       "Report_Fiscal_Year     int64\n",
       "dtype: object"
      ]
     },
     "execution_count": 3,
     "metadata": {},
     "output_type": "execute_result"
    }
   ],
   "source": [
    "# Convert CCN, Total_Charges, and Total_Payment to numeric types\n",
    "cost_reports[\"CCN\"] = pd.to_numeric(cost_reports[\"CCN\"], errors=\"coerce\")\n",
    "cost_reports[\"Total_Charges\"] = pd.to_numeric(cost_reports[\"Total_Charges\"], errors=\"coerce\")\n",
    "cost_reports[\"Total_Payment\"] = pd.to_numeric(cost_reports[\"Total_Payment\"], errors=\"coerce\")\n",
    "\n",
    "# Drop any rows where conversion failed (NaN)\n",
    "cost_reports = cost_reports.dropna(subset=[\"CCN\", \"Total_Charges\", \"Total_Payment\"])\n",
    "\n",
    "# Check dtypes again to confirm\n",
    "cost_reports.dtypes"
   ]
  },
  {
   "cell_type": "markdown",
   "id": "e2d8c374",
   "metadata": {},
   "source": [
    "## Persist Cleaned Cost Reports to CSV\n",
    "\n",
    "We create a directory for cleaned outputs (if it doesn’t already exist) and then write the fully cleaned `cost_reports` DataFrame—containing numeric CCNs, charges, and payments—out to a CSV file (`hospital_costs_sqlite_cleaned.csv`). This ensures we have a standardized, analysis-ready file for all subsequent notebooks."
   ]
  },
  {
   "cell_type": "code",
   "execution_count": 4,
   "id": "825afb54",
   "metadata": {},
   "outputs": [
    {
     "name": "stdout",
     "output_type": "stream",
     "text": [
      "Cleaned CSV written → ../data/cleaned/hospital_costs_sqlite_cleaned.csv\n"
     ]
    }
   ],
   "source": [
    "import os\n",
    "os.makedirs(\"../data/cleaned\", exist_ok=True)\n",
    "\n",
    "cleaned_csv = \"../data/cleaned/hospital_costs_sqlite_cleaned.csv\"\n",
    "cost_reports.to_csv(cleaned_csv, index=False)\n",
    "print(f\"Cleaned CSV written → {cleaned_csv}\")"
   ]
  }
 ],
 "metadata": {
  "kernelspec": {
   "display_name": "HospitalReimb (.venv)",
   "language": "python",
   "name": "hospital_env"
  },
  "language_info": {
   "codemirror_mode": {
    "name": "ipython",
    "version": 3
   },
   "file_extension": ".py",
   "mimetype": "text/x-python",
   "name": "python",
   "nbconvert_exporter": "python",
   "pygments_lexer": "ipython3",
   "version": "3.9.6"
  }
 },
 "nbformat": 4,
 "nbformat_minor": 5
}
