{
 "cells": [
  {
   "cell_type": "markdown",
   "id": "9586d305",
   "metadata": {},
   "source": [
    "## Persist Cleaned Data to SQLite\n",
    "\n",
    "To support database-driven workflows, we load the cleaned hospital CSV into a Pandas DataFrame and then write it into a SQLite database (`hospital_data.db`). We replace any existing table named `hospital_costs_sqlite_cleaned` and verify the list of tables in the database to confirm the operation succeeded."
   ]
  },
  {
   "cell_type": "code",
   "execution_count": 13,
   "id": "7223fa38",
   "metadata": {},
   "outputs": [
    {
     "name": "stdout",
     "output_type": "stream",
     "text": [
      "                            name\n",
      "0  hospital_costs_sqlite_cleaned\n"
     ]
    }
   ],
   "source": [
    "import sqlite3\n",
    "import pandas as pd\n",
    "\n",
    "# Define full path to the CSV file\n",
    "csv_path = \"/Users/anesuruzvidzo/Desktop/Hospital_Reimbursement_Project/Data/cleaned/hospital_costs_sqlite_cleaned.csv\"\n",
    "\n",
    "# Read the cleaned CSV into a DataFrame\n",
    "df_csv = pd.read_csv(csv_path)\n",
    "\n",
    "# Connect (or create) hospital_data.db in the project root\n",
    "conn = sqlite3.connect(\"/Users/anesuruzvidzo/Desktop/Hospital_Reimbursement_Project/hospital_data.db\")\n",
    "\n",
    "# Write the CSV DataFrame into a table named \"hospital_costs_sqlite_cleaned\"\n",
    "df_csv.to_sql(name=\"hospital_costs_sqlite_cleaned\", con=conn, if_exists=\"replace\", index=False)\n",
    "\n",
    "# Confirm which tables exist in hospital_data.db\n",
    "tables_df = pd.read_sql_query(\"SELECT name FROM sqlite_master WHERE type='table';\", conn)\n",
    "print(tables_df)"
   ]
  },
  {
   "cell_type": "markdown",
   "id": "2e3adb9c",
   "metadata": {},
   "source": [
    "## Verify SQLite Table Import\n",
    "\n",
    "We read back the `hospital_costs_sqlite_cleaned` table from the `hospital_data.db` SQLite database into a Pandas DataFrame. Displaying the first few rows confirms that the cleaned hospital data was successfully persisted and can be queried directly from the database."
   ]
  },
  {
   "cell_type": "code",
   "execution_count": 14,
   "id": "17cba899",
   "metadata": {},
   "outputs": [
    {
     "data": {
      "text/html": [
       "<div>\n",
       "<style scoped>\n",
       "    .dataframe tbody tr th:only-of-type {\n",
       "        vertical-align: middle;\n",
       "    }\n",
       "\n",
       "    .dataframe tbody tr th {\n",
       "        vertical-align: top;\n",
       "    }\n",
       "\n",
       "    .dataframe thead th {\n",
       "        text-align: right;\n",
       "    }\n",
       "</style>\n",
       "<table border=\"1\" class=\"dataframe\">\n",
       "  <thead>\n",
       "    <tr style=\"text-align: right;\">\n",
       "      <th></th>\n",
       "      <th>CCN</th>\n",
       "      <th>Hospital_Name</th>\n",
       "      <th>Total_Charges</th>\n",
       "      <th>Total_Payment</th>\n",
       "      <th>Address</th>\n",
       "      <th>City</th>\n",
       "      <th>State</th>\n",
       "      <th>County</th>\n",
       "      <th>Ownership</th>\n",
       "      <th>Report_Fiscal_Year</th>\n",
       "    </tr>\n",
       "  </thead>\n",
       "  <tbody>\n",
       "    <tr>\n",
       "      <th>0</th>\n",
       "      <td>341318</td>\n",
       "      <td>CHOWAN HOSPITAL INC.</td>\n",
       "      <td>36330775</td>\n",
       "      <td>56681179</td>\n",
       "      <td>211 VIRGINIA AVENUE</td>\n",
       "      <td>EDENTON</td>\n",
       "      <td>NC</td>\n",
       "      <td>CHOWAN</td>\n",
       "      <td>2</td>\n",
       "      <td>2018</td>\n",
       "    </tr>\n",
       "    <tr>\n",
       "      <th>1</th>\n",
       "      <td>102012</td>\n",
       "      <td>SPECIALTY HOSPITAL OF JACKSONVILLE</td>\n",
       "      <td>21692290</td>\n",
       "      <td>4729380</td>\n",
       "      <td>4901 RICHARD STREET</td>\n",
       "      <td>JACKSONVILLE</td>\n",
       "      <td>FL</td>\n",
       "      <td>DUVAL</td>\n",
       "      <td>4</td>\n",
       "      <td>2018</td>\n",
       "    </tr>\n",
       "    <tr>\n",
       "      <th>2</th>\n",
       "      <td>221300</td>\n",
       "      <td>MARTHAS VINEYARD HOSPITAL</td>\n",
       "      <td>24038629</td>\n",
       "      <td>84069106</td>\n",
       "      <td>ONE HOSPITAL ROAD</td>\n",
       "      <td>OAK BLUFFS</td>\n",
       "      <td>MA</td>\n",
       "      <td>DUKES</td>\n",
       "      <td>2</td>\n",
       "      <td>2018</td>\n",
       "    </tr>\n",
       "    <tr>\n",
       "      <th>3</th>\n",
       "      <td>201302</td>\n",
       "      <td>LINCOLNHEALTH</td>\n",
       "      <td>37577199</td>\n",
       "      <td>85209941</td>\n",
       "      <td>6 ST. ANDREWS LANE</td>\n",
       "      <td>BOOTHBAY HARBOR</td>\n",
       "      <td>ME</td>\n",
       "      <td>LINCOLN</td>\n",
       "      <td>2</td>\n",
       "      <td>2018</td>\n",
       "    </tr>\n",
       "    <tr>\n",
       "      <th>4</th>\n",
       "      <td>511306</td>\n",
       "      <td>ROANE GENERAL HOSPITAL</td>\n",
       "      <td>10970176</td>\n",
       "      <td>35195713</td>\n",
       "      <td>200 HOSPITAL DRIVE</td>\n",
       "      <td>SPENCER</td>\n",
       "      <td>WV</td>\n",
       "      <td>ROANE</td>\n",
       "      <td>2</td>\n",
       "      <td>2018</td>\n",
       "    </tr>\n",
       "  </tbody>\n",
       "</table>\n",
       "</div>"
      ],
      "text/plain": [
       "      CCN                       Hospital_Name  Total_Charges  Total_Payment  \\\n",
       "0  341318                CHOWAN HOSPITAL INC.       36330775       56681179   \n",
       "1  102012  SPECIALTY HOSPITAL OF JACKSONVILLE       21692290        4729380   \n",
       "2  221300           MARTHAS VINEYARD HOSPITAL       24038629       84069106   \n",
       "3  201302                       LINCOLNHEALTH       37577199       85209941   \n",
       "4  511306              ROANE GENERAL HOSPITAL       10970176       35195713   \n",
       "\n",
       "               Address             City State   County  Ownership  \\\n",
       "0  211 VIRGINIA AVENUE          EDENTON    NC   CHOWAN          2   \n",
       "1  4901 RICHARD STREET     JACKSONVILLE    FL    DUVAL          4   \n",
       "2    ONE HOSPITAL ROAD       OAK BLUFFS    MA    DUKES          2   \n",
       "3   6 ST. ANDREWS LANE  BOOTHBAY HARBOR    ME  LINCOLN          2   \n",
       "4   200 HOSPITAL DRIVE          SPENCER    WV    ROANE          2   \n",
       "\n",
       "   Report_Fiscal_Year  \n",
       "0                2018  \n",
       "1                2018  \n",
       "2                2018  \n",
       "3                2018  \n",
       "4                2018  "
      ]
     },
     "execution_count": 14,
     "metadata": {},
     "output_type": "execute_result"
    }
   ],
   "source": [
    "# Read the cleaned table into a DataFrame\n",
    "df = pd.read_sql_query(\"SELECT * FROM hospital_costs_sqlite_cleaned\", conn)\n",
    "\n",
    "# Display the first few rows\n",
    "df.head()"
   ]
  },
  {
   "cell_type": "markdown",
   "id": "4a6d0fc5",
   "metadata": {},
   "source": [
    "## Database Query: Compute Hospital-Level Averages via SQL\n",
    "\n",
    "Instead of in-memory CSV, we leverage our SQLite database to compute the average charges and payments by fiscal year and hospital (CCN). We then calculate the corresponding charge-to-payment ratio directly from the aggregated values, demonstrating how to use SQL-backed data within our analysis pipeline."
   ]
  },
  {
   "cell_type": "code",
   "execution_count": 16,
   "id": "146110fb",
   "metadata": {},
   "outputs": [
    {
     "data": {
      "text/html": [
       "<div>\n",
       "<style scoped>\n",
       "    .dataframe tbody tr th:only-of-type {\n",
       "        vertical-align: middle;\n",
       "    }\n",
       "\n",
       "    .dataframe tbody tr th {\n",
       "        vertical-align: top;\n",
       "    }\n",
       "\n",
       "    .dataframe thead th {\n",
       "        text-align: right;\n",
       "    }\n",
       "</style>\n",
       "<table border=\"1\" class=\"dataframe\">\n",
       "  <thead>\n",
       "    <tr style=\"text-align: right;\">\n",
       "      <th></th>\n",
       "      <th>Report_Fiscal_Year</th>\n",
       "      <th>CCN</th>\n",
       "      <th>avg_charge</th>\n",
       "      <th>avg_payment</th>\n",
       "      <th>charge_to_payment_ratio</th>\n",
       "    </tr>\n",
       "  </thead>\n",
       "  <tbody>\n",
       "    <tr>\n",
       "      <th>0</th>\n",
       "      <td>2018</td>\n",
       "      <td>10001</td>\n",
       "      <td>859339807.0</td>\n",
       "      <td>340882061.0</td>\n",
       "      <td>2.520930</td>\n",
       "    </tr>\n",
       "    <tr>\n",
       "      <th>1</th>\n",
       "      <td>2018</td>\n",
       "      <td>10005</td>\n",
       "      <td>114242849.0</td>\n",
       "      <td>147689469.0</td>\n",
       "      <td>0.773534</td>\n",
       "    </tr>\n",
       "    <tr>\n",
       "      <th>2</th>\n",
       "      <td>2018</td>\n",
       "      <td>10006</td>\n",
       "      <td>474412115.0</td>\n",
       "      <td>170503663.0</td>\n",
       "      <td>2.782416</td>\n",
       "    </tr>\n",
       "    <tr>\n",
       "      <th>3</th>\n",
       "      <td>2018</td>\n",
       "      <td>10007</td>\n",
       "      <td>17535473.0</td>\n",
       "      <td>14984368.0</td>\n",
       "      <td>1.170251</td>\n",
       "    </tr>\n",
       "    <tr>\n",
       "      <th>4</th>\n",
       "      <td>2018</td>\n",
       "      <td>10008</td>\n",
       "      <td>13511264.0</td>\n",
       "      <td>9263645.0</td>\n",
       "      <td>1.458526</td>\n",
       "    </tr>\n",
       "  </tbody>\n",
       "</table>\n",
       "</div>"
      ],
      "text/plain": [
       "   Report_Fiscal_Year    CCN   avg_charge  avg_payment  \\\n",
       "0                2018  10001  859339807.0  340882061.0   \n",
       "1                2018  10005  114242849.0  147689469.0   \n",
       "2                2018  10006  474412115.0  170503663.0   \n",
       "3                2018  10007   17535473.0   14984368.0   \n",
       "4                2018  10008   13511264.0    9263645.0   \n",
       "\n",
       "   charge_to_payment_ratio  \n",
       "0                 2.520930  \n",
       "1                 0.773534  \n",
       "2                 2.782416  \n",
       "3                 1.170251  \n",
       "4                 1.458526  "
      ]
     },
     "execution_count": 16,
     "metadata": {},
     "output_type": "execute_result"
    }
   ],
   "source": [
    "# Compute average charges & payments by year and hospital (CCN)\n",
    "summary = (\n",
    "    df\n",
    "    .groupby(['Report_Fiscal_Year', 'CCN'])\n",
    "    .agg(\n",
    "        avg_charge=('Total_Charges', 'mean'),\n",
    "        avg_payment=('Total_Payment', 'mean')\n",
    "    )\n",
    "    .reset_index()\n",
    ")\n",
    "\n",
    "# Calculate charge-to-payment ratio\n",
    "summary['charge_to_payment_ratio'] = summary['avg_charge'] / summary['avg_payment']\n",
    "\n",
    "# See the first few rows\n",
    "summary.head()"
   ]
  },
  {
   "cell_type": "markdown",
   "id": "3c6299a9",
   "metadata": {},
   "source": [
    "## Export Summary Results\n",
    "\n",
    "After computing the average charges, average payments, and resulting charge-to-payment ratios by year and hospital (CCN), we:\n",
    "\n",
    "1. **Save** the summary DataFrame to a CSV file (`charge_payment_summary.csv`) for easy reuse.  \n",
    "2. **Write** the same summary into the SQLite database under the table name `charge_payment_summary` for persistent, queryable storage.  \n",
    "3. **Close** the database connection to finalize the workflow."
   ]
  },
  {
   "cell_type": "code",
   "execution_count": 17,
   "id": "1566bad5",
   "metadata": {},
   "outputs": [],
   "source": [
    "# Save to CSV\n",
    "summary.to_csv(\n",
    "    \"/Users/anesuruzvidzo/Desktop/Hospital_Reimbursement_Project/charge_payment_summary.csv\", \n",
    "    index=False\n",
    ")\n",
    "\n",
    "# Write into SQLite under a new table \"charge_payment_summary\"\n",
    "summary.to_sql(\n",
    "    name=\"charge_payment_summary\", \n",
    "    con=conn, \n",
    "    if_exists=\"replace\", \n",
    "    index=False\n",
    ")\n",
    "\n",
    "# Close the connection\n",
    "conn.close()"
   ]
  },
  {
   "cell_type": "code",
   "execution_count": 18,
   "id": "306161e3",
   "metadata": {},
   "outputs": [
    {
     "name": "stdout",
     "output_type": "stream",
     "text": [
      "[np.int64(2018), np.int64(2019), np.int64(2020), np.int64(2021), np.int64(2022)]\n"
     ]
    }
   ],
   "source": [
    "print(sorted(summary[\"Report_Fiscal_Year\"].unique()))"
   ]
  },
  {
   "cell_type": "markdown",
   "id": "564c9909",
   "metadata": {},
   "source": [
    "## Visualize Time Series: Average Charge-to-Payment Ratio (2018–2022)\n",
    "\n",
    "We plot the annual trend of average hospital charge-to-payment ratios based on our previously computed `summary` table. This line chart highlights changes in markup behavior over the five-year period."
   ]
  },
  {
   "cell_type": "code",
   "execution_count": 21,
   "id": "67aed8a8",
   "metadata": {},
   "outputs": [
    {
     "name": "stderr",
     "output_type": "stream",
     "text": [
      "Matplotlib is building the font cache; this may take a moment.\n"
     ]
    },
    {
     "data": {
      "image/png": "[encoded data removed]",
      "text/plain": [
       "<Figure size 640x480 with 1 Axes>"
      ]
     },
     "metadata": {},
     "output_type": "display_data"
    }
   ],
   "source": [
    "import matplotlib.pyplot as plt\n",
    "\n",
    "# Compute the average ratio per year\n",
    "yearly_avg = summary.groupby(\"Report_Fiscal_Year\")[\"charge_to_payment_ratio\"].mean()\n",
    "\n",
    "# Plot the trend over time\n",
    "plt.plot(yearly_avg.index, yearly_avg.values, marker='o')\n",
    "plt.xlabel(\"Fiscal Year\")\n",
    "plt.ylabel(\"Average Charge-to-Payment Ratio\")\n",
    "plt.title(\"Trend: Avg Charge-to-Payment Ratio (2018–2022)\")\n",
    "plt.xticks(yearly_avg.index)\n",
    "plt.show()"
   ]
  },
  {
   "cell_type": "markdown",
   "id": "9b1f5931",
   "metadata": {},
   "source": [
    "## Validate Coverage: Fiscal Years & Hospital Counts\n",
    "\n",
    "Before drawing conclusions, we verify that our `summary` table includes the intended range of fiscal years (2018–2022) and inspect the number of hospitals represented each year. This ensures our trend analysis is based on complete and consistent data coverage."
   ]
  },
  {
   "cell_type": "code",
   "execution_count": 22,
   "id": "35faea81",
   "metadata": {},
   "outputs": [
    {
     "name": "stdout",
     "output_type": "stream",
     "text": [
      "Years in summary: [np.int64(2018), np.int64(2019), np.int64(2020), np.int64(2021), np.int64(2022)]\n",
      "Hospital counts per year:\n",
      "Report_Fiscal_Year\n",
      "2018    5783\n",
      "2019    5757\n",
      "2020    5722\n",
      "2021    5753\n",
      "2022    5755\n",
      "Name: count, dtype: int64\n"
     ]
    }
   ],
   "source": [
    "# Check which fiscal years are present in the summary DataFrame\n",
    "# This confirms that data for 2018–2022 (or whatever years) is included\n",
    "print(\"Years in summary:\", sorted(summary[\"Report_Fiscal_Year\"].unique()))\n",
    "\n",
    "# Count how many hospitals appear for each year\n",
    "print(\"Hospital counts per year:\")\n",
    "print(summary[\"Report_Fiscal_Year\"].value_counts().sort_index())"
   ]
  },
  {
   "cell_type": "markdown",
   "id": "c8009db4",
   "metadata": {},
   "source": [
    "## Top 5 Hospitals by Markup Each Year\n",
    "\n",
    "We identify the five hospitals with the highest charge-to-payment ratios for each fiscal year. This looped analysis surfaces the facilities with the most extreme markup behavior annually, enabling targeted examination of those cases."
   ]
  },
  {
   "cell_type": "code",
   "execution_count": 23,
   "id": "a97ea901",
   "metadata": {},
   "outputs": [
    {
     "name": "stdout",
     "output_type": "stream",
     "text": [
      "\n",
      "Top 5 Hospitals by Markup in 2018:\n",
      "         CCN    avg_charge  avg_payment  charge_to_payment_ratio\n",
      "1257  114029  2.909952e+07          2.0             1.454976e+07\n",
      "5242  474004  2.114416e+07      79683.0             2.653535e+02\n",
      "1008  100298  1.083045e+08    4380566.0             2.472385e+01\n",
      "4779  450229  1.357178e+09   63505002.0             2.137120e+01\n",
      "3298  312024  1.216549e+09   60365155.0             2.015317e+01\n",
      "\n",
      "Top 5 Hospitals by Markup in 2019:\n",
      "          CCN  avg_charge  avg_payment  charge_to_payment_ratio\n",
      "11094  494010  43077770.0      11650.0              3697.662661\n",
      "10994  474004  18384440.0      19212.0               956.924839\n",
      "10898  454121  28947600.0     501802.0                57.687295\n",
      "9452   344033   6531493.5     124282.5                52.553606\n",
      "6862   104001  37433365.0    1131594.0                33.080208\n",
      "\n",
      "Top 5 Hospitals by Markup in 2020:\n",
      "          CCN    avg_charge  avg_payment  charge_to_payment_ratio\n",
      "14819  312024  4.967184e+09   91584210.0                54.236245\n",
      "15186  344033  2.164667e+07     404856.0                53.467581\n",
      "12551  100298  1.653217e+08    3347602.0                49.385102\n",
      "12219   54125  1.361850e+07     618505.0                22.018423\n",
      "15180  344026  1.190159e+08    5673125.0                20.978896\n",
      "\n",
      "Top 5 Hospitals by Markup in 2021:\n",
      "          CCN    avg_charge  avg_payment  charge_to_payment_ratio\n",
      "21898  442006  6.987645e+06          1.0             6.987645e+06\n",
      "18549  114029  2.093991e+07          3.0             6.979969e+06\n",
      "22585  500052  6.201005e+06          1.0             6.201005e+06\n",
      "20565  312024  9.008170e+09   76453450.0             1.178255e+02\n",
      "18009   60031  2.150649e+09   47095050.0             4.566614e+01\n",
      "\n",
      "Top 5 Hospitals by Markup in 2022:\n",
      "          CCN    avg_charge  avg_payment  charge_to_payment_ratio\n",
      "24309  114029  2.236833e+07          1.0             2.236833e+07\n",
      "28342  500052  5.050026e+06          1.0             5.050026e+06\n",
      "26331  312024  3.562634e+09   55272900.0             6.445535e+01\n",
      "26691  344033  1.989361e+07     778054.0             2.556842e+01\n",
      "26686  344026  1.165188e+08    4962471.0             2.347999e+01\n"
     ]
    }
   ],
   "source": [
    "# Identify the top 5 hospitals by charge-to-payment ratio for each year\n",
    "# Loop over each year in ascending order\n",
    "for year in sorted(summary[\"Report_Fiscal_Year\"].unique()):\n",
    "    # Filter summary to only rows for this year\n",
    "    subset = summary[summary[\"Report_Fiscal_Year\"] == year]\n",
    "    \n",
    "    # Select the top 5 hospitals with the highest ratio\n",
    "    top_5 = (\n",
    "        subset\n",
    "        .nlargest(5, \"charge_to_payment_ratio\")   # order by highest ratio\n",
    "        .loc[:, [\"CCN\", \"avg_charge\", \"avg_payment\", \"charge_to_payment_ratio\"]]\n",
    "    )\n",
    "    \n",
    "    # Display the results for this year\n",
    "    print(f\"\\nTop 5 Hospitals by Markup in {year}:\")\n",
    "    print(top_5)"
   ]
  },
  {
   "cell_type": "markdown",
   "id": "214da3f3",
   "metadata": {},
   "source": [
    "## Load Charge‐Payment Summary\n",
    "\n",
    "Here we import the precomputed hospital‐level summary (`charge_payment_summary.csv`), which includes the average charges, average payments, and calculated charge‐to‐payment ratios by fiscal year and CCN from Notebook 2. This prepares the data for subsequent analyses and visualizations."
   ]
  },
  {
   "cell_type": "code",
   "execution_count": 2,
   "id": "077fd492",
   "metadata": {},
   "outputs": [
    {
     "data": {
      "text/html": [
       "<div>\n",
       "<style scoped>\n",
       "    .dataframe tbody tr th:only-of-type {\n",
       "        vertical-align: middle;\n",
       "    }\n",
       "\n",
       "    .dataframe tbody tr th {\n",
       "        vertical-align: top;\n",
       "    }\n",
       "\n",
       "    .dataframe thead th {\n",
       "        text-align: right;\n",
       "    }\n",
       "</style>\n",
       "<table border=\"1\" class=\"dataframe\">\n",
       "  <thead>\n",
       "    <tr style=\"text-align: right;\">\n",
       "      <th></th>\n",
       "      <th>Report_Fiscal_Year</th>\n",
       "      <th>CCN</th>\n",
       "      <th>avg_charge</th>\n",
       "      <th>avg_payment</th>\n",
       "      <th>charge_to_payment_ratio</th>\n",
       "    </tr>\n",
       "  </thead>\n",
       "  <tbody>\n",
       "    <tr>\n",
       "      <th>0</th>\n",
       "      <td>2018</td>\n",
       "      <td>10001</td>\n",
       "      <td>859339807.0</td>\n",
       "      <td>340882061.0</td>\n",
       "      <td>2.520930</td>\n",
       "    </tr>\n",
       "    <tr>\n",
       "      <th>1</th>\n",
       "      <td>2018</td>\n",
       "      <td>10005</td>\n",
       "      <td>114242849.0</td>\n",
       "      <td>147689469.0</td>\n",
       "      <td>0.773534</td>\n",
       "    </tr>\n",
       "    <tr>\n",
       "      <th>2</th>\n",
       "      <td>2018</td>\n",
       "      <td>10006</td>\n",
       "      <td>474412115.0</td>\n",
       "      <td>170503663.0</td>\n",
       "      <td>2.782416</td>\n",
       "    </tr>\n",
       "    <tr>\n",
       "      <th>3</th>\n",
       "      <td>2018</td>\n",
       "      <td>10007</td>\n",
       "      <td>17535473.0</td>\n",
       "      <td>14984368.0</td>\n",
       "      <td>1.170251</td>\n",
       "    </tr>\n",
       "    <tr>\n",
       "      <th>4</th>\n",
       "      <td>2018</td>\n",
       "      <td>10008</td>\n",
       "      <td>13511264.0</td>\n",
       "      <td>9263645.0</td>\n",
       "      <td>1.458526</td>\n",
       "    </tr>\n",
       "  </tbody>\n",
       "</table>\n",
       "</div>"
      ],
      "text/plain": [
       "   Report_Fiscal_Year    CCN   avg_charge  avg_payment  \\\n",
       "0                2018  10001  859339807.0  340882061.0   \n",
       "1                2018  10005  114242849.0  147689469.0   \n",
       "2                2018  10006  474412115.0  170503663.0   \n",
       "3                2018  10007   17535473.0   14984368.0   \n",
       "4                2018  10008   13511264.0    9263645.0   \n",
       "\n",
       "   charge_to_payment_ratio  \n",
       "0                 2.520930  \n",
       "1                 0.773534  \n",
       "2                 2.782416  \n",
       "3                 1.170251  \n",
       "4                 1.458526  "
      ]
     },
     "execution_count": 2,
     "metadata": {},
     "output_type": "execute_result"
    }
   ],
   "source": [
    "import pandas as pd\n",
    "\n",
    "# Load the summary file created in Notebook 2\n",
    "summary = pd.read_csv(\"/Users/anesuruzvidzo/Desktop/Hospital_Reimbursement_Project/charge_payment_summary.csv\")\n",
    "\n",
    "# Confirm it's loaded\n",
    "summary.head()"
   ]
  },
  {
   "cell_type": "markdown",
   "id": "ae47d39c",
   "metadata": {},
   "source": [
    "## Comparative Distribution: Filtered Charge-to-Payment Ratios\n",
    "\n",
    "To compare how markup distributions shift over time, we first remove implausible extreme values (ratios ≥100 or infinite). We then overlay histograms of charge-to-payment ratios for each fiscal year (2018–2022), using semi-transparent bars to visualize changes in the distribution’s shape and spread across years."
   ]
  },
  {
   "cell_type": "code",
   "execution_count": 3,
   "id": "43bc7fa7",
   "metadata": {},
   "outputs": [
    {
     "data": {
      "image/png": "[encoded data removed]",
      "text/plain": [
       "<Figure size 1000x600 with 1 Axes>"
      ]
     },
     "metadata": {},
     "output_type": "display_data"
    }
   ],
   "source": [
    "import matplotlib.pyplot as plt\n",
    "\n",
    "# Filter extreme values to avoid distortion\n",
    "summary_filtered = summary[\n",
    "    (summary[\"charge_to_payment_ratio\"] < 100) &\n",
    "    (summary[\"charge_to_payment_ratio\"].notna()) &\n",
    "    (summary[\"charge_to_payment_ratio\"] != float(\"inf\"))\n",
    "]\n",
    "\n",
    "plt.figure(figsize=(10, 6))\n",
    "\n",
    "# Plot histogram for each year after filtering\n",
    "for year in sorted(summary_filtered[\"Report_Fiscal_Year\"].unique()):\n",
    "    subset = summary_filtered[summary_filtered[\"Report_Fiscal_Year\"] == year]\n",
    "    \n",
    "    plt.hist(\n",
    "        subset[\"charge_to_payment_ratio\"],\n",
    "        bins=40,\n",
    "        alpha=0.4,\n",
    "        label=str(year),\n",
    "        edgecolor=\"black\"\n",
    "    )\n",
    "\n",
    "plt.xlabel(\"Charge-to-Payment Ratio\")\n",
    "plt.ylabel(\"Number of Hospitals\")\n",
    "plt.title(\"Distribution of Charge-to-Payment Ratios by Year (Filtered)\")\n",
    "plt.legend()\n",
    "plt.tight_layout()\n",
    "plt.show()"
   ]
  },
  {
   "cell_type": "markdown",
   "id": "c8c7735e",
   "metadata": {},
   "source": [
    "## State-Level Comparison for 2022\n",
    "\n",
    "In this analysis, we merge the hospital summary ratios with state identifiers, filter for 2022, and compute each state’s average charge-to-payment ratio (excluding extreme values). We then list and visualize the top 10 states by markup ratio to highlight regional variations in hospital pricing practices."
   ]
  },
  {
   "cell_type": "code",
   "execution_count": 5,
   "id": "36a1fb32",
   "metadata": {},
   "outputs": [
    {
     "name": "stdout",
     "output_type": "stream",
     "text": [
      "Top 10 States by Avg Charge-to-Payment Ratio (2022):\n",
      "  State  charge_to_payment_ratio\n",
      "0    NJ                 3.571127\n",
      "1    FL                 3.552269\n",
      "2    NV                 3.058525\n",
      "3    CA                 2.557203\n",
      "4    AZ                 2.290159\n",
      "5    VA                 2.183783\n",
      "6    TX                 2.141025\n",
      "7    SC                 2.071146\n",
      "8    TN                 2.056953\n",
      "9    DE                 2.023721\n"
     ]
    },
    {
     "data": {
      "image/png": "[encoded data removed]",
      "text/plain": [
       "<Figure size 800x500 with 1 Axes>"
      ]
     },
     "metadata": {},
     "output_type": "display_data"
    }
   ],
   "source": [
    "df = pd.read_csv(\"/Users/anesuruzvidzo/Desktop/Hospital_Reimbursement_Project/Data/cleaned/hospital_costs_sqlite_cleaned.csv\")\n",
    "\n",
    "# Compare average ratios across states for a specific year (e.g., 2022)\n",
    "# First, filter out extreme ratios to avoid distortion\n",
    "summary_filtered = summary[\n",
    "    (summary[\"charge_to_payment_ratio\"] < 100) &\n",
    "    (summary[\"charge_to_payment_ratio\"].notna()) &\n",
    "    (summary[\"charge_to_payment_ratio\"] != float(\"inf\"))\n",
    "]\n",
    "\n",
    "# Then merge the 'State' column from the original df into summary\n",
    "# We use drop_duplicates to avoid repeating the same CCN–State pairing\n",
    "merged = summary_filtered.merge(\n",
    "    df[[\"CCN\", \"Report_Fiscal_Year\", \"State\"]].drop_duplicates(),\n",
    "    on=[\"CCN\", \"Report_Fiscal_Year\"],\n",
    "    how=\"left\"\n",
    ")\n",
    "\n",
    "# Filter merged DataFrame for the target year (2022 in this example)\n",
    "subset_2022 = merged[merged[\"Report_Fiscal_Year\"] == 2022]\n",
    "\n",
    "# Group by state and compute the mean ratio for each\n",
    "state_avg = (\n",
    "    subset_2022\n",
    "    .groupby(\"State\")[\"charge_to_payment_ratio\"]\n",
    "    .mean()\n",
    "    .sort_values(ascending=False)\n",
    "    .reset_index()\n",
    ")\n",
    "\n",
    "# Display the top 10 states with highest average ratio in 2022\n",
    "print(\"Top 10 States by Avg Charge-to-Payment Ratio (2022):\")\n",
    "print(state_avg.head(10))\n",
    "\n",
    "# Plot a bar chart of those top 10 states\n",
    "import matplotlib.pyplot as plt\n",
    "\n",
    "top_states = state_avg.head(10)  # select the top 10 states\n",
    "plt.figure(figsize=(8, 5))       # set figure size\n",
    "plt.bar(\n",
    "    top_states[\"State\"], \n",
    "    top_states[\"charge_to_payment_ratio\"], \n",
    "    edgecolor=\"black\"\n",
    ")\n",
    "plt.xlabel(\"State\")\n",
    "plt.ylabel(\"Avg Charge-to-Payment Ratio\")\n",
    "plt.title(\"Top 10 States by Avg Ratio in 2022 (Filtered)\")\n",
    "plt.xticks(rotation=45)  # rotate state labels for readability\n",
    "plt.tight_layout()       # adjust layout to prevent cut-off labels\n",
    "plt.show()"
   ]
  },
  {
   "cell_type": "code",
   "execution_count": 7,
   "id": "341ea4d6",
   "metadata": {},
   "outputs": [],
   "source": [
    "# Reopen the SQLite connection so we can write tables back to it\n",
    "import sqlite3\n",
    "conn = sqlite3.connect(\"/Users/anesuruzvidzo/Desktop/Hospital_Reimbursement_Project/hospital_data.db\")"
   ]
  },
  {
   "cell_type": "markdown",
   "id": "580540d9",
   "metadata": {},
   "source": [
    "## Persist Summary Table to SQLite\n",
    "\n",
    "We write the `summary` DataFrame—containing average charges, payments, and charge-to-payment ratios—to the SQLite database under the table name `charge_payment_summary`. This enables efficient querying and reuse of the computed results within a database environment."
   ]
  },
  {
   "cell_type": "code",
   "execution_count": 8,
   "id": "f225a795",
   "metadata": {},
   "outputs": [
    {
     "data": {
      "text/plain": [
       "28770"
      ]
     },
     "execution_count": 8,
     "metadata": {},
     "output_type": "execute_result"
    }
   ],
   "source": [
    "# Write the summary DataFrame into SQLite under the table \"charge_payment_summary\"\n",
    "summary.to_sql(\n",
    "    name=\"charge_payment_summary\",\n",
    "    con=conn,\n",
    "    if_exists=\"replace\",\n",
    "    index=False\n",
    ")"
   ]
  },
  {
   "cell_type": "code",
   "execution_count": 9,
   "id": "f0958ff1",
   "metadata": {},
   "outputs": [
    {
     "data": {
      "text/plain": [
       "54"
      ]
     },
     "execution_count": 9,
     "metadata": {},
     "output_type": "execute_result"
    }
   ],
   "source": [
    "#write State average into SQLite under \"state_avg_2022\"\n",
    "state_avg.to_sql(\n",
    "    name=\"state_avg_2022\",\n",
    "    con=conn,\n",
    "    if_exists=\"replace\",\n",
    "    index=False\n",
    ")"
   ]
  },
  {
   "cell_type": "code",
   "execution_count": 10,
   "id": "225281ba",
   "metadata": {},
   "outputs": [],
   "source": [
    "# Close the database connection now that all writes are done\n",
    "conn.close()"
   ]
  },
  {
   "cell_type": "code",
   "execution_count": 11,
   "id": "85f209c8",
   "metadata": {},
   "outputs": [
    {
     "name": "stdout",
     "output_type": "stream",
     "text": [
      "Notebook 02 is complete: summary and state_avg tables have been saved.\n"
     ]
    }
   ],
   "source": [
    "# Confirmation message\n",
    "print(\"Notebook 02 is complete: summary and state_avg tables have been saved.\")"
   ]
  }
 ],
 "metadata": {
  "kernelspec": {
   "display_name": "HospitalReimb (.venv)",
   "language": "python",
   "name": "hospital_env"
  },
  "language_info": {
   "codemirror_mode": {
    "name": "ipython",
    "version": 3
   },
   "file_extension": ".py",
   "mimetype": "text/x-python",
   "name": "python",
   "nbconvert_exporter": "python",
   "pygments_lexer": "ipython3",
   "version": "3.9.6"
  }
 },
 "nbformat": 4,
 "nbformat_minor": 5
}
